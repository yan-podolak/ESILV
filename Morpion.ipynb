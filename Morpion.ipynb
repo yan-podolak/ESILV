{
 "cells": [
  {
   "cell_type": "markdown",
   "metadata": {},
   "source": [
    "## The class State\n",
    "#### It represents the grid of size 3x3. You can display the grid using the method print"
   ]
  },
  {
   "cell_type": "code",
   "execution_count": 1,
   "metadata": {},
   "outputs": [],
   "source": [
    "class State:\n",
    "    empty_array = [[0, 0, 0],\n",
    "                   [0, 0, 0],\n",
    "                   [0, 0, 0]]\n",
    "\n",
    "    def __init__(self, array=empty_array):\n",
    "        self.array = array;\n",
    "\n",
    "    def print(self):\n",
    "        for i in range(len(self.array)):\n",
    "            for j in range(len(self.array[i])):\n",
    "                if self.array[i][j] == 1:\n",
    "                    print(\"O\", end=\" \")\n",
    "                if self.array[i][j] == -1:\n",
    "                    print(\"X\", end=\" \")\n",
    "                if self.array[i][j] == 0:\n",
    "                    print(\"-\", end=\" \")\n",
    "            print()"
   ]
  },
  {
   "cell_type": "markdown",
   "metadata": {},
   "source": [
    "## The function Actions"
   ]
  },
  {
   "cell_type": "markdown",
   "metadata": {},
   "source": [
    "#### It takes a state and a player as parameters and it computes all the new moves that the player can make "
   ]
  },
  {
   "cell_type": "code",
   "execution_count": 2,
   "metadata": {},
   "outputs": [],
   "source": [
    "def Actions(state, joueur):\n",
    "    liste_action = []\n",
    "    liste_action_state = []\n",
    "    state_array = state.array\n",
    "    for i in range(3):\n",
    "        for j in range(3):\n",
    "            if state.array[i][j] == 0:\n",
    "                array = [[0, 0, 0], [0, 0, 0], [0, 0, 0]]\n",
    "                for l in range(3):\n",
    "                    for m in range(3):\n",
    "                        array[l][m] = state_array[l][m]\n",
    "                array[i][j] = joueur\n",
    "                liste_action.append(array)\n",
    "    for i in range(len(liste_action)):\n",
    "        liste_action_state.append(State(liste_action[i]))\n",
    "    return liste_action_state"
   ]
  },
  {
   "cell_type": "markdown",
   "metadata": {},
   "source": [
    "## The function Result"
   ]
  },
  {
   "cell_type": "markdown",
   "metadata": {},
   "source": [
    "#### It takes the current state and apply the new move a"
   ]
  },
  {
   "cell_type": "code",
   "execution_count": 3,
   "metadata": {},
   "outputs": [],
   "source": [
    "def Result(state, a):\n",
    "    for i in range(3):\n",
    "        for j in range(3):\n",
    "            state.array[i][j] = a.array[i][j]\n",
    "    return state;"
   ]
  },
  {
   "cell_type": "markdown",
   "metadata": {},
   "source": [
    "## The function Terminal_State"
   ]
  },
  {
   "cell_type": "markdown",
   "metadata": {},
   "source": [
    "#### It returns whether or not the game is over"
   ]
  },
  {
   "cell_type": "code",
   "execution_count": 4,
   "metadata": {},
   "outputs": [],
   "source": [
    "def Terminal_Test(state):\n",
    "    var = 0\n",
    "    for i in range(3):\n",
    "        for j in range(3):\n",
    "            if state.array[i][j] == 0:\n",
    "                var = var + 1\n",
    "    if var == 0:\n",
    "        return True\n",
    "\n",
    "    if state.array[0][0] == state.array[1][1] and state.array[0][0] == state.array[2][2] and state.array[0][0] != 0:\n",
    "        return True\n",
    "    else:\n",
    "        if state.array[2][0] == state.array[1][1] and state.array[2][0] == state.array[0][2] and state.array[2][0] != 0:\n",
    "            return True\n",
    "        else:\n",
    "            for i in range(len(state.array)):\n",
    "                if state.array[i][0] == state.array[i][1] and state.array[i][0] == state.array[i][2] and state.array[i][\n",
    "                    0] != 0:\n",
    "                    return True\n",
    "\n",
    "            for j in range(len(state.array)):\n",
    "                if state.array[0][j] == state.array[1][j] and state.array[2][j] == state.array[0][j] and state.array[0][\n",
    "                    j] != 0:\n",
    "                    return True\n",
    "            return False"
   ]
  },
  {
   "cell_type": "markdown",
   "metadata": {},
   "source": [
    "## The Utility function"
   ]
  },
  {
   "cell_type": "markdown",
   "metadata": {},
   "source": [
    "#### It returns the grid if it's winning and 0 if losing"
   ]
  },
  {
   "cell_type": "code",
   "execution_count": 5,
   "metadata": {},
   "outputs": [],
   "source": [
    "def Utility(state):\n",
    "    if state.array[0][0] == state.array[1][1] and state.array[0][0] == state.array[2][2] and state.array[0][0] != 0:\n",
    "        # print(\"Desc\")\n",
    "        return state.array[0][0]\n",
    "    else:\n",
    "        if state.array[2][0] == state.array[1][1] and state.array[2][0] == state.array[0][2] and state.array[2][0] != 0:\n",
    "            # print(\"Asc\")\n",
    "            return state.array[2][0]\n",
    "        else:\n",
    "            for i in range(len(state.array)):\n",
    "                if state.array[i][0] == state.array[i][1] and state.array[i][0] == state.array[i][2] and state.array[i][\n",
    "                    0] != 0:\n",
    "                    # print(\"Ligne\")\n",
    "                    return state.array[i][0]\n",
    "\n",
    "            for j in range(len(state.array)):\n",
    "                if state.array[0][j] == state.array[1][j] and state.array[0][j] == state.array[2][j] and state.array[0][\n",
    "                    j] != 0:\n",
    "                    # print(\"Colonne\")\n",
    "                    return state.array[0][j]\n",
    "            return 0"
   ]
  },
  {
   "cell_type": "markdown",
   "metadata": {},
   "source": [
    "## The Minmax function"
   ]
  },
  {
   "cell_type": "markdown",
   "metadata": {},
   "source": [
    "#### The minmax algorithm will computes the best move to do for the bot"
   ]
  },
  {
   "cell_type": "code",
   "execution_count": 6,
   "metadata": {},
   "outputs": [],
   "source": [
    "def minmax(state, joueur):\n",
    "    if Terminal_Test(state):\n",
    "        return Utility(state)\n",
    "    if joueur == False:\n",
    "        maxi = -1000\n",
    "        liste_action = Actions(state, 1)\n",
    "        for i in range(len(liste_action)):\n",
    "            val = minmax(liste_action[i], True)\n",
    "            maxi = max(val, maxi)\n",
    "        return maxi\n",
    "    else:\n",
    "        mini = 1000\n",
    "        liste_action = Actions(state, -1)\n",
    "        for i in range(len(liste_action)):\n",
    "            val = minmax(liste_action[i], False)\n",
    "            mini = min(mini, val)\n",
    "        return mini"
   ]
  },
  {
   "cell_type": "markdown",
   "metadata": {},
   "source": [
    "## The Alphabeta algorithm"
   ]
  },
  {
   "cell_type": "markdown",
   "metadata": {},
   "source": [
    "#### It's using the same technique as the minmax algo but optimizing it by decreasing the number of nodes to compute"
   ]
  },
  {
   "cell_type": "code",
   "execution_count": 7,
   "metadata": {},
   "outputs": [],
   "source": [
    "def alphabeta(state, joueur, alpha, beta):\n",
    "    if Terminal_Test(state):\n",
    "        return Utility(state)\n",
    "    if joueur == False:\n",
    "        maxi = -1000\n",
    "        liste_action = Actions(state, 1)\n",
    "        for i in range(len(liste_action)):\n",
    "            maxi = max(maxi, alphabeta(liste_action[i], True, alpha, beta))\n",
    "            if maxi >= beta:\n",
    "                return maxi\n",
    "            alpha = max(alpha, maxi)\n",
    "        return maxi\n",
    "    else:\n",
    "        mini = 1000\n",
    "        liste_action = Actions(state, -1)\n",
    "        for i in range(len(liste_action)):\n",
    "            mini = min(beta, alphabeta(liste_action[i], False, alpha, beta))\n",
    "            if alpha >= mini:\n",
    "                return mini\n",
    "            beta = min(beta, mini)\n",
    "        return mini"
   ]
  },
  {
   "cell_type": "markdown",
   "metadata": {},
   "source": [
    "## The function Jeu"
   ]
  },
  {
   "cell_type": "markdown",
   "metadata": {},
   "source": [
    "#### It's the structure of the game"
   ]
  },
  {
   "cell_type": "code",
   "execution_count": 8,
   "metadata": {},
   "outputs": [],
   "source": [
    "def Jeu():\n",
    "    state = State()\n",
    "    joueur = -1\n",
    "    while Terminal_Test(state) == False:\n",
    "        if joueur == -1:\n",
    "            print(\" A vous de jouer, voici la grille : \")\n",
    "            state.print()\n",
    "            print(\"\")\n",
    "            print(\"\")\n",
    "            jeu = Actions(state, -1)\n",
    "            for i in range(len(jeu)):\n",
    "                print(\"Choix\", i, \":\")\n",
    "                jeu[i].print()\n",
    "            i = -1\n",
    "            while (i < 0 or i > 8):\n",
    "                i = int(input(\"Selectionnez votre choix :\"))\n",
    "            state = Result(state, jeu[i])\n",
    "            joueur = 1\n",
    "        else:\n",
    "            score = -100\n",
    "            liste_action = Actions(state, 1)\n",
    "            index = 0\n",
    "            for i in range(len(liste_action)):\n",
    "                val = minmax(liste_action[i],True)\n",
    "                #val = alphabeta(liste_action[i], True, -10000, 10000)\n",
    "                if val > score:\n",
    "                    score = val\n",
    "                    index = i\n",
    "            state = Result(state, liste_action[index])\n",
    "            joueur = -1\n",
    "            print(\"\")\n",
    "            print(\"\")\n",
    "\n",
    "    if Utility(state) == -1:\n",
    "        print(\"Vous avez gagné ! Bravo !\")\n",
    "    if Utility(state) == 1:\n",
    "        print(\"Vous avez perdu ! Dommage !\")\n",
    "    if Utility(state) == 0:\n",
    "        print(\"Egalité\")\n",
    "    state.print()"
   ]
  },
  {
   "cell_type": "markdown",
   "metadata": {},
   "source": [
    "## The function : AI"
   ]
  },
  {
   "cell_type": "markdown",
   "metadata": {},
   "source": [
    "#### This function let 2 bots playing against each other"
   ]
  },
  {
   "cell_type": "code",
   "execution_count": 9,
   "metadata": {},
   "outputs": [],
   "source": [
    "def AI():\n",
    "    state = State()\n",
    "    joueur = -1\n",
    "    while Terminal_Test(state) == False:\n",
    "        print(\"Etat\")\n",
    "        state.print()\n",
    "        if joueur == -1:\n",
    "            score = 100\n",
    "            liste_action = Actions(state, -1)\n",
    "            index = 0\n",
    "            for i in range(len(liste_action)):\n",
    "                # val = minmax(liste_action[i],True)\n",
    "                val = minmax(liste_action[i], False)\n",
    "                if val < score:\n",
    "                    score = val\n",
    "                    index = i\n",
    "            state = Result(state, liste_action[index])\n",
    "            joueur = 1\n",
    "            print(\"\")\n",
    "            print(\"\")\n",
    "        else:\n",
    "            score = -100\n",
    "            liste_action = Actions(state, 1)\n",
    "            index = 0\n",
    "            for i in range(len(liste_action)):\n",
    "                # val = minmax(liste_action[i],True)\n",
    "                val = alphabeta(liste_action[i], True, -10000, 10000)\n",
    "                if val > score:\n",
    "                    score = val\n",
    "                    index = i\n",
    "            state = Result(state, liste_action[index])\n",
    "            joueur = -1\n",
    "            print(\"\")\n",
    "            print(\"\")\n",
    "\n",
    "    if Utility(state) == -1:\n",
    "        print(\"Vous avez gagné ! Bravo !\")\n",
    "    if Utility(state) == 1:\n",
    "        print(\"Vous avez perdu ! Dommage !\")\n",
    "    if Utility(state) == 0:\n",
    "        print(\"Egalité\")\n",
    "    state.print()"
   ]
  },
  {
   "cell_type": "markdown",
   "metadata": {},
   "source": [
    "## Let's play"
   ]
  },
  {
   "cell_type": "code",
   "execution_count": 10,
   "metadata": {},
   "outputs": [
    {
     "name": "stdout",
     "output_type": "stream",
     "text": [
      " A vous de jouer, voici la grille : \n",
      "- - - \n",
      "- - - \n",
      "- - - \n",
      "\n",
      "\n",
      "Choix 0 :\n",
      "X - - \n",
      "- - - \n",
      "- - - \n",
      "Choix 1 :\n",
      "- X - \n",
      "- - - \n",
      "- - - \n",
      "Choix 2 :\n",
      "- - X \n",
      "- - - \n",
      "- - - \n",
      "Choix 3 :\n",
      "- - - \n",
      "X - - \n",
      "- - - \n",
      "Choix 4 :\n",
      "- - - \n",
      "- X - \n",
      "- - - \n",
      "Choix 5 :\n",
      "- - - \n",
      "- - X \n",
      "- - - \n",
      "Choix 6 :\n",
      "- - - \n",
      "- - - \n",
      "X - - \n",
      "Choix 7 :\n",
      "- - - \n",
      "- - - \n",
      "- X - \n",
      "Choix 8 :\n",
      "- - - \n",
      "- - - \n",
      "- - X \n",
      "Selectionnez votre choix :0\n",
      "\n",
      "\n",
      " A vous de jouer, voici la grille : \n",
      "X - - \n",
      "- O - \n",
      "- - - \n",
      "\n",
      "\n",
      "Choix 0 :\n",
      "X X - \n",
      "- O - \n",
      "- - - \n",
      "Choix 1 :\n",
      "X - X \n",
      "- O - \n",
      "- - - \n",
      "Choix 2 :\n",
      "X - - \n",
      "X O - \n",
      "- - - \n",
      "Choix 3 :\n",
      "X - - \n",
      "- O X \n",
      "- - - \n",
      "Choix 4 :\n",
      "X - - \n",
      "- O - \n",
      "X - - \n",
      "Choix 5 :\n",
      "X - - \n",
      "- O - \n",
      "- X - \n",
      "Choix 6 :\n",
      "X - - \n",
      "- O - \n",
      "- - X \n",
      "Selectionnez votre choix :6\n",
      "\n",
      "\n",
      " A vous de jouer, voici la grille : \n",
      "X O - \n",
      "- O - \n",
      "- - X \n",
      "\n",
      "\n",
      "Choix 0 :\n",
      "X O X \n",
      "- O - \n",
      "- - X \n",
      "Choix 1 :\n",
      "X O - \n",
      "X O - \n",
      "- - X \n",
      "Choix 2 :\n",
      "X O - \n",
      "- O X \n",
      "- - X \n",
      "Choix 3 :\n",
      "X O - \n",
      "- O - \n",
      "X - X \n",
      "Choix 4 :\n",
      "X O - \n",
      "- O - \n",
      "- X X \n",
      "Selectionnez votre choix :4\n",
      "\n",
      "\n",
      " A vous de jouer, voici la grille : \n",
      "X O - \n",
      "- O - \n",
      "O X X \n",
      "\n",
      "\n",
      "Choix 0 :\n",
      "X O X \n",
      "- O - \n",
      "O X X \n",
      "Choix 1 :\n",
      "X O - \n",
      "X O - \n",
      "O X X \n",
      "Choix 2 :\n",
      "X O - \n",
      "- O X \n",
      "O X X \n",
      "Selectionnez votre choix :0\n",
      "\n",
      "\n",
      " A vous de jouer, voici la grille : \n",
      "X O X \n",
      "- O O \n",
      "O X X \n",
      "\n",
      "\n",
      "Choix 0 :\n",
      "X O X \n",
      "X O O \n",
      "O X X \n",
      "Selectionnez votre choix :0\n",
      "Egalité\n",
      "X O X \n",
      "X O O \n",
      "O X X \n"
     ]
    }
   ],
   "source": [
    "Jeu()\n",
    "#AI()"
   ]
  },
  {
   "cell_type": "code",
   "execution_count": null,
   "metadata": {},
   "outputs": [],
   "source": []
  }
 ],
 "metadata": {
  "kernelspec": {
   "display_name": "Python 3",
   "language": "python",
   "name": "python3"
  },
  "language_info": {
   "codemirror_mode": {
    "name": "ipython",
    "version": 3
   },
   "file_extension": ".py",
   "mimetype": "text/x-python",
   "name": "python",
   "nbconvert_exporter": "python",
   "pygments_lexer": "ipython3",
   "version": "3.7.4"
  }
 },
 "nbformat": 4,
 "nbformat_minor": 2
}
